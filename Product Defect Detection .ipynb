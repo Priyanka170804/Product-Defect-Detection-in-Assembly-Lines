{
 "cells": [
  {
   "cell_type": "code",
   "execution_count": 61,
   "id": "a06d7ee3-dbc1-4494-a3b6-99260c455394",
   "metadata": {},
   "outputs": [],
   "source": [
    "import numpy as np\n",
    "import pandas as pd"
   ]
  },
  {
   "cell_type": "code",
   "execution_count": 62,
   "id": "ec010572-9a51-40ad-87af-80075e5bc860",
   "metadata": {},
   "outputs": [
    {
     "name": "stdout",
     "output_type": "stream",
     "text": [
      "Requirement already satisfied: scikit-learn in c:\\users\\priyanka b\\appdata\\local\\programs\\python\\python310\\lib\\site-packages (1.6.1)\n",
      "Requirement already satisfied: numpy>=1.19.5 in c:\\users\\priyanka b\\appdata\\local\\programs\\python\\python310\\lib\\site-packages (from scikit-learn) (2.0.2)\n",
      "Requirement already satisfied: scipy>=1.6.0 in c:\\users\\priyanka b\\appdata\\local\\programs\\python\\python310\\lib\\site-packages (from scikit-learn) (1.15.1)\n",
      "Requirement already satisfied: joblib>=1.2.0 in c:\\users\\priyanka b\\appdata\\local\\programs\\python\\python310\\lib\\site-packages (from scikit-learn) (1.4.2)\n",
      "Requirement already satisfied: threadpoolctl>=3.1.0 in c:\\users\\priyanka b\\appdata\\local\\programs\\python\\python310\\lib\\site-packages (from scikit-learn) (3.5.0)\n"
     ]
    }
   ],
   "source": [
    "!pip install scikit-learn"
   ]
  },
  {
   "cell_type": "code",
   "execution_count": 63,
   "id": "126124cf-87bf-470a-bcd5-0c131a5dc1bc",
   "metadata": {},
   "outputs": [],
   "source": [
    "from sklearn.model_selection import train_test_split"
   ]
  },
  {
   "cell_type": "code",
   "execution_count": 64,
   "id": "a40a1609-1c1b-42ea-8da1-ab24827f801c",
   "metadata": {},
   "outputs": [],
   "source": [
    "from sklearn.preprocessing import LabelEncoder, StandardScaler"
   ]
  },
  {
   "cell_type": "code",
   "execution_count": 65,
   "id": "364ffc9b-760e-4f26-bae4-b6d005d02a18",
   "metadata": {},
   "outputs": [],
   "source": [
    "def sigmoid(z):\n",
    "    return 1 / (1 + np.exp(-z))"
   ]
  },
  {
   "cell_type": "code",
   "execution_count": 66,
   "id": "20e779c5-a8d4-4af0-94f1-fb48d5448502",
   "metadata": {},
   "outputs": [],
   "source": [
    "def initialize_weights(n_features):\n",
    "    weights = np.zeros(n_features)\n",
    "    bias = 0\n",
    "    return weights, bias"
   ]
  },
  {
   "cell_type": "code",
   "execution_count": 67,
   "id": "2f0a3ddd-e510-439a-9cb4-8b236dae8ccd",
   "metadata": {},
   "outputs": [],
   "source": [
    "def compute_cost(y, y_pred):\n",
    "    m = len(y)\n",
    "    cost = -(1 / m) * np.sum(y * np.log(y_pred + 1e-10) + (1 - y) * np.log(1 - y_pred + 1e-10))\n",
    "    return cost"
   ]
  },
  {
   "cell_type": "code",
   "execution_count": 68,
   "id": "ab45fbf3-ebc2-411e-b199-649cbd619c8f",
   "metadata": {},
   "outputs": [],
   "source": [
    "def compute_gradients(X, y, y_pred):\n",
    "    m = len(y)\n",
    "    dw = (1 / m) * np.dot(X.T, (y_pred - y))\n",
    "    db = (1 / m) * np.sum(y_pred - y)\n",
    "    return dw, db"
   ]
  },
  {
   "cell_type": "code",
   "execution_count": 69,
   "id": "6ca09f5d-1951-454d-bd98-3c05d12ca0cc",
   "metadata": {},
   "outputs": [],
   "source": [
    "def train_logistic_regression(X, y, learning_rate=0.01, n_iterations=1000):\n",
    "    n_features = X.shape[1]\n",
    "    weights, bias = initialize_weights(n_features)\n",
    "    cost_history = []\n",
    "\n",
    "    for i in range(n_iterations):\n",
    "        z = np.dot(X, weights) + bias\n",
    "        y_pred = sigmoid(z)\n",
    "        cost = compute_cost(y, y_pred)\n",
    "        cost_history.append(cost)\n",
    "        dw, db = compute_gradients(X, y, y_pred)\n",
    "        weights -= learning_rate * dw\n",
    "        bias -= learning_rate * db\n",
    "    return weights, bias, cost_history"
   ]
  },
  {
   "cell_type": "code",
   "execution_count": 70,
   "id": "2d646187-af0b-4f69-bc89-9b89ac404a6b",
   "metadata": {},
   "outputs": [],
   "source": [
    "def predict(X, weights, bias):\n",
    "    z = np.dot(X, weights) + bias\n",
    "    y_pred = sigmoid(z)\n",
    "    return np.where(y_pred >= 0.5, 1, 0)"
   ]
  },
  {
   "cell_type": "code",
   "execution_count": 71,
   "id": "58bbf0a0-0379-4db7-82c4-8acf7c5ff55e",
   "metadata": {},
   "outputs": [],
   "source": [
    "def evaluate_model(y_true, y_pred):\n",
    "    accuracy = np.mean(y_true == y_pred)\n",
    "    return accuracy"
   ]
  },
  {
   "cell_type": "code",
   "execution_count": 73,
   "id": "655c90ed-ca6b-413f-a10d-1e41ffd2088c",
   "metadata": {},
   "outputs": [
    {
     "data": {
      "text/html": [
       "<div>\n",
       "<style scoped>\n",
       "    .dataframe tbody tr th:only-of-type {\n",
       "        vertical-align: middle;\n",
       "    }\n",
       "\n",
       "    .dataframe tbody tr th {\n",
       "        vertical-align: top;\n",
       "    }\n",
       "\n",
       "    .dataframe thead th {\n",
       "        text-align: right;\n",
       "    }\n",
       "</style>\n",
       "<table border=\"1\" class=\"dataframe\">\n",
       "  <thead>\n",
       "    <tr style=\"text-align: right;\">\n",
       "      <th></th>\n",
       "      <th>Product_ID</th>\n",
       "      <th>Assembly_Line</th>\n",
       "      <th>Sensor_Reading_1</th>\n",
       "      <th>Sensor_Reading_2</th>\n",
       "      <th>Temperature</th>\n",
       "      <th>Humidity</th>\n",
       "      <th>Defective</th>\n",
       "    </tr>\n",
       "  </thead>\n",
       "  <tbody>\n",
       "    <tr>\n",
       "      <th>0</th>\n",
       "      <td>P001</td>\n",
       "      <td>Line_A</td>\n",
       "      <td>50.0</td>\n",
       "      <td>30.0</td>\n",
       "      <td>70.0</td>\n",
       "      <td>40.0</td>\n",
       "      <td>1</td>\n",
       "    </tr>\n",
       "    <tr>\n",
       "      <th>1</th>\n",
       "      <td>P002</td>\n",
       "      <td>Line_A</td>\n",
       "      <td>53.0</td>\n",
       "      <td>28.8</td>\n",
       "      <td>70.5</td>\n",
       "      <td>40.8</td>\n",
       "      <td>0</td>\n",
       "    </tr>\n",
       "    <tr>\n",
       "      <th>2</th>\n",
       "      <td>P003</td>\n",
       "      <td>Line_A</td>\n",
       "      <td>56.0</td>\n",
       "      <td>27.6</td>\n",
       "      <td>71.0</td>\n",
       "      <td>41.6</td>\n",
       "      <td>0</td>\n",
       "    </tr>\n",
       "    <tr>\n",
       "      <th>3</th>\n",
       "      <td>P004</td>\n",
       "      <td>Line_A</td>\n",
       "      <td>51.5</td>\n",
       "      <td>26.4</td>\n",
       "      <td>71.5</td>\n",
       "      <td>42.4</td>\n",
       "      <td>0</td>\n",
       "    </tr>\n",
       "    <tr>\n",
       "      <th>4</th>\n",
       "      <td>P005</td>\n",
       "      <td>Line_A</td>\n",
       "      <td>54.5</td>\n",
       "      <td>31.2</td>\n",
       "      <td>72.0</td>\n",
       "      <td>43.2</td>\n",
       "      <td>0</td>\n",
       "    </tr>\n",
       "    <tr>\n",
       "      <th>...</th>\n",
       "      <td>...</td>\n",
       "      <td>...</td>\n",
       "      <td>...</td>\n",
       "      <td>...</td>\n",
       "      <td>...</td>\n",
       "      <td>...</td>\n",
       "      <td>...</td>\n",
       "    </tr>\n",
       "    <tr>\n",
       "      <th>95</th>\n",
       "      <td>P096</td>\n",
       "      <td>Line_B</td>\n",
       "      <td>102.5</td>\n",
       "      <td>54.0</td>\n",
       "      <td>70.0</td>\n",
       "      <td>43.2</td>\n",
       "      <td>0</td>\n",
       "    </tr>\n",
       "    <tr>\n",
       "      <th>96</th>\n",
       "      <td>P097</td>\n",
       "      <td>Line_B</td>\n",
       "      <td>98.0</td>\n",
       "      <td>58.8</td>\n",
       "      <td>70.5</td>\n",
       "      <td>44.0</td>\n",
       "      <td>0</td>\n",
       "    </tr>\n",
       "    <tr>\n",
       "      <th>97</th>\n",
       "      <td>P098</td>\n",
       "      <td>Line_B</td>\n",
       "      <td>101.0</td>\n",
       "      <td>57.6</td>\n",
       "      <td>71.0</td>\n",
       "      <td>44.8</td>\n",
       "      <td>0</td>\n",
       "    </tr>\n",
       "    <tr>\n",
       "      <th>98</th>\n",
       "      <td>P099</td>\n",
       "      <td>Line_B</td>\n",
       "      <td>104.0</td>\n",
       "      <td>56.4</td>\n",
       "      <td>71.5</td>\n",
       "      <td>40.0</td>\n",
       "      <td>0</td>\n",
       "    </tr>\n",
       "    <tr>\n",
       "      <th>99</th>\n",
       "      <td>P100</td>\n",
       "      <td>Line_B</td>\n",
       "      <td>99.5</td>\n",
       "      <td>55.2</td>\n",
       "      <td>72.0</td>\n",
       "      <td>40.8</td>\n",
       "      <td>0</td>\n",
       "    </tr>\n",
       "  </tbody>\n",
       "</table>\n",
       "<p>100 rows × 7 columns</p>\n",
       "</div>"
      ],
      "text/plain": [
       "   Product_ID Assembly_Line  Sensor_Reading_1  Sensor_Reading_2  Temperature  \\\n",
       "0        P001        Line_A              50.0              30.0         70.0   \n",
       "1        P002        Line_A              53.0              28.8         70.5   \n",
       "2        P003        Line_A              56.0              27.6         71.0   \n",
       "3        P004        Line_A              51.5              26.4         71.5   \n",
       "4        P005        Line_A              54.5              31.2         72.0   \n",
       "..        ...           ...               ...               ...          ...   \n",
       "95       P096        Line_B             102.5              54.0         70.0   \n",
       "96       P097        Line_B              98.0              58.8         70.5   \n",
       "97       P098        Line_B             101.0              57.6         71.0   \n",
       "98       P099        Line_B             104.0              56.4         71.5   \n",
       "99       P100        Line_B              99.5              55.2         72.0   \n",
       "\n",
       "    Humidity  Defective  \n",
       "0       40.0          1  \n",
       "1       40.8          0  \n",
       "2       41.6          0  \n",
       "3       42.4          0  \n",
       "4       43.2          0  \n",
       "..       ...        ...  \n",
       "95      43.2          0  \n",
       "96      44.0          0  \n",
       "97      44.8          0  \n",
       "98      40.0          0  \n",
       "99      40.8          0  \n",
       "\n",
       "[100 rows x 7 columns]"
      ]
     },
     "execution_count": 73,
     "metadata": {},
     "output_type": "execute_result"
    }
   ],
   "source": [
    "data = pd.read_csv(\"product_defect_detection.csv\")\n",
    "data"
   ]
  },
  {
   "cell_type": "code",
   "execution_count": 74,
   "id": "63df93a1-3b6a-4dfe-8e13-3b6c2f1dc169",
   "metadata": {},
   "outputs": [],
   "source": [
    "data['Sensor_Reading_1'] = pd.to_numeric(data['Sensor_Reading_1'], errors='coerce')\n",
    "data['Sensor_Reading_2'] = pd.to_numeric(data['Sensor_Reading_2'], errors='coerce')\n",
    "data['Temperature'] = pd.to_numeric(data['Temperature'], errors='coerce')\n",
    "data['Humidity'] = pd.to_numeric(data['Humidity'], errors='coerce')"
   ]
  },
  {
   "cell_type": "code",
   "execution_count": 75,
   "id": "a9321489-774c-4759-8e1a-e489fe7efcbd",
   "metadata": {},
   "outputs": [],
   "source": [
    "X = data[['Sensor_Reading_1', 'Sensor_Reading_2', 'Temperature', 'Humidity']]\n",
    "y = data['Defective']"
   ]
  },
  {
   "cell_type": "code",
   "execution_count": 76,
   "id": "9e96ac4b-e8d4-493e-a967-498a9948d99e",
   "metadata": {},
   "outputs": [
    {
     "name": "stderr",
     "output_type": "stream",
     "text": [
      "C:\\Users\\PRIYANKA B\\AppData\\Local\\Temp\\ipykernel_8044\\1817221277.py:1: SettingWithCopyWarning: \n",
      "A value is trying to be set on a copy of a slice from a DataFrame\n",
      "\n",
      "See the caveats in the documentation: https://pandas.pydata.org/pandas-docs/stable/user_guide/indexing.html#returning-a-view-versus-a-copy\n",
      "  X.dropna(inplace=True)\n"
     ]
    }
   ],
   "source": [
    "X.dropna(inplace=True)\n",
    "y_encoded = y[X.index.isin(X.dropna().index)]"
   ]
  },
  {
   "cell_type": "code",
   "execution_count": 77,
   "id": "eb245546-aa45-4803-996a-bf994bf514a8",
   "metadata": {},
   "outputs": [],
   "source": [
    "X_train, X_test, y_train, y_test = train_test_split(X.values, y_encoded, test_size=0.2, random_state=42)"
   ]
  },
  {
   "cell_type": "code",
   "execution_count": 78,
   "id": "89e2287d-838c-4063-a2e2-ee8366e979bf",
   "metadata": {},
   "outputs": [],
   "source": [
    "scaler = StandardScaler()\n",
    "X_train_scaled = scaler.fit_transform(X_train)\n",
    "X_test_scaled = scaler.transform(X_test)"
   ]
  },
  {
   "cell_type": "code",
   "execution_count": 79,
   "id": "2aaaac6a-aee3-4fd5-929d-384c9b1fc325",
   "metadata": {},
   "outputs": [],
   "source": [
    "weights, bias, cost_history = train_logistic_regression(X_train_scaled, y_train.values, learning_rate=0.01, n_iterations=1000)"
   ]
  },
  {
   "cell_type": "code",
   "execution_count": 80,
   "id": "63785f3f-312b-4bef-98f9-fdf5c53dee0f",
   "metadata": {},
   "outputs": [],
   "source": [
    "y_pred = predict(X_test_scaled,weights,bias)"
   ]
  },
  {
   "cell_type": "code",
   "execution_count": 81,
   "id": "fd948fea-4622-4aa8-a171-9f70240e3e11",
   "metadata": {},
   "outputs": [
    {
     "name": "stdout",
     "output_type": "stream",
     "text": [
      "Accuracy: 70.00%\n"
     ]
    }
   ],
   "source": [
    "accuracy = evaluate_model(y_test.values, y_pred)\n",
    "print(f\"Accuracy: {accuracy * 100:.2f}%\")"
   ]
  },
  {
   "cell_type": "code",
   "execution_count": null,
   "id": "d46af12a-4327-45a5-9b43-6590f2d3bf17",
   "metadata": {},
   "outputs": [],
   "source": []
  }
 ],
 "metadata": {
  "kernelspec": {
   "display_name": "Python 3 (ipykernel)",
   "language": "python",
   "name": "python3"
  },
  "language_info": {
   "codemirror_mode": {
    "name": "ipython",
    "version": 3
   },
   "file_extension": ".py",
   "mimetype": "text/x-python",
   "name": "python",
   "nbconvert_exporter": "python",
   "pygments_lexer": "ipython3",
   "version": "3.10.11"
  }
 },
 "nbformat": 4,
 "nbformat_minor": 5
}
